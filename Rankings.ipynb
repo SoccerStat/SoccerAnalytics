{
 "cells": [
  {
   "cell_type": "markdown",
   "metadata": {},
   "source": [
    "# Rankings"
   ]
  },
  {
   "cell_type": "code",
   "execution_count": null,
   "metadata": {},
   "outputs": [],
   "source": [
    "ENV=\"dev\""
   ]
  },
  {
   "cell_type": "markdown",
   "metadata": {},
   "source": [
    "## Connection to PostgreSQL database"
   ]
  },
  {
   "cell_type": "code",
   "execution_count": null,
   "metadata": {},
   "outputs": [],
   "source": [
    "from itables import init_notebook_mode, show\n",
    "\n",
    "from postgres.PostgresToDataFrame import PostgresToDataframe\n",
    "from src.rankings.TeamsRanking import TeamsRanking\n",
    "\n",
    "init_notebook_mode(all_interactive=True)"
   ]
  },
  {
   "cell_type": "code",
   "execution_count": null,
   "metadata": {},
   "outputs": [],
   "source": [
    "db = PostgresToDataframe(ENV)"
   ]
  },
  {
   "cell_type": "markdown",
   "metadata": {},
   "source": [
    "## Rankings"
   ]
  },
  {
   "cell_type": "code",
   "execution_count": null,
   "metadata": {},
   "outputs": [],
   "source": [
    "ID_CHP = 'ligue_1'\n",
    "SEASON = '2023-2024'\n",
    "SIDE = 'both'\n",
    "FIRST_WEEK = 1\n",
    "LAST_WEEK = 100\n",
    "\n",
    "N = 1000000\n",
    "ROUND = 2"
   ]
  },
  {
   "cell_type": "markdown",
   "metadata": {},
   "source": [
    "### Teams ranking"
   ]
  },
  {
   "cell_type": "code",
   "execution_count": null,
   "metadata": {},
   "outputs": [],
   "source": [
    "teams_ranking = TeamsRanking(db)\n",
    "truc = teams_ranking.build_ranking(ID_CHP, SEASON, SIDE, FIRST_WEEK, LAST_WEEK, N, ROUND)"
   ]
  },
  {
   "cell_type": "code",
   "execution_count": null,
   "metadata": {},
   "outputs": [],
   "source": [
    "show(truc.sort_values('xP', ascending=False), paging=False)"
   ]
  },
  {
   "cell_type": "code",
   "execution_count": null,
   "metadata": {},
   "outputs": [],
   "source": [
    "show(truc[['Matches', 'Club', 'Wins', 'Draws', 'Loses', 'Points', 'xP', 'Diff Points']].set_index('Club').loc['FC Lorient'], paging=False)"
   ]
  },
  {
   "cell_type": "markdown",
   "metadata": {},
   "source": [
    "### Players Rankings"
   ]
  },
  {
   "cell_type": "code",
   "execution_count": null,
   "metadata": {},
   "outputs": [],
   "source": [
    "db.execute_sql_file(\"sql/rankings/players.sql\")"
   ]
  },
  {
   "cell_type": "code",
   "execution_count": null,
   "metadata": {},
   "outputs": [],
   "source": [
    "players_ranking = db.df_from_query(\"select * from players_rankings(id_chp := 'ligue_1', id_season := '2023-2024', side := 'both');\").set_index(\"Ranking\")"
   ]
  },
  {
   "cell_type": "code",
   "execution_count": null,
   "metadata": {},
   "outputs": [],
   "source": [
    "players_ranking"
   ]
  },
  {
   "cell_type": "markdown",
   "metadata": {},
   "source": [
    "## Distinct positions"
   ]
  },
  {
   "cell_type": "code",
   "execution_count": null,
   "metadata": {},
   "outputs": [],
   "source": [
    "all_positions = db.df_from_query(\"select position from player_stats ps group by position;\")[\"position\"].dropna().tolist()\n",
    "flattened_positions = []\n",
    "for sublist in [position.split(',') for position in all_positions]:\n",
    "    flattened_positions.extend(sublist)"
   ]
  },
  {
   "cell_type": "code",
   "execution_count": null,
   "metadata": {},
   "outputs": [],
   "source": [
    "list(set(all_positions))"
   ]
  },
  {
   "cell_type": "code",
   "execution_count": null,
   "metadata": {},
   "outputs": [],
   "source": [
    "unique_positions = list(set(flattened_positions))\n",
    "general_positions = ['gk', 'def', 'mid', 'att']\n",
    "\n",
    "{\n",
    "    'gk': 'gk',\n",
    "    'df': 'def',\n",
    "    'lb': 'def',\n",
    "    'cb': 'def',\n",
    "    'wb': 'def', #wide back\n",
    "    'rb': 'def',\n",
    "    'dm': 'mid',\n",
    "    'cm': 'mid',\n",
    "    'lm': 'mid',\n",
    "    'rm': 'mid',\n",
    "    'mf': 'mid', #in-sub players\n",
    "    'am': 'mid', #attacking midfielder\n",
    "    'lw': 'att', #winger\n",
    "    'rw': 'att',\n",
    "    'fw': 'att'\n",
    "}"
   ]
  },
  {
   "cell_type": "markdown",
   "metadata": {},
   "source": [
    "# Closing the PostgreSQL session"
   ]
  },
  {
   "cell_type": "code",
   "execution_count": null,
   "metadata": {},
   "outputs": [],
   "source": [
    "db.close()"
   ]
  }
 ],
 "metadata": {
  "kernelspec": {
   "display_name": "Python 3",
   "language": "python",
   "name": "python3"
  },
  "language_info": {
   "codemirror_mode": {
    "name": "ipython",
    "version": 3
   },
   "file_extension": ".py",
   "mimetype": "text/x-python",
   "name": "python",
   "nbconvert_exporter": "python",
   "pygments_lexer": "ipython3",
   "version": "3.11.3"
  }
 },
 "nbformat": 4,
 "nbformat_minor": 2
}
