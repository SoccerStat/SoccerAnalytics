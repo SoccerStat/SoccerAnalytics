{
 "cells": [
  {
   "cell_type": "markdown",
   "metadata": {},
   "source": [
    "# Rankings"
   ]
  },
  {
   "cell_type": "code",
   "execution_count": null,
   "metadata": {},
   "outputs": [],
   "source": [
    "ENV=\"dev\""
   ]
  },
  {
   "cell_type": "markdown",
   "metadata": {},
   "source": [
    "## Connection to PostgreSQL database"
   ]
  },
  {
   "cell_type": "code",
   "execution_count": null,
   "metadata": {},
   "outputs": [],
   "source": [
    "from itables import init_notebook_mode, show\n",
    "import numpy as np\n",
    "import pandas as pd\n",
    "\n",
    "from postgres.PostgresToDataFrame import PostgresToDataframe\n",
    "\n",
    "init_notebook_mode(all_interactive=True)"
   ]
  },
  {
   "cell_type": "code",
   "execution_count": null,
   "metadata": {},
   "outputs": [],
   "source": [
    "db = PostgresToDataframe(ENV)"
   ]
  },
  {
   "cell_type": "code",
   "execution_count": null,
   "metadata": {},
   "outputs": [],
   "source": [
    "def open_sql_file(path):\n",
    "    with open(path, 'r') as sql_file:\n",
    "        return sql_file.read()"
   ]
  },
  {
   "cell_type": "markdown",
   "metadata": {},
   "source": [
    "## Rankings"
   ]
  },
  {
   "cell_type": "markdown",
   "metadata": {},
   "source": [
    "### Sub functions"
   ]
  },
  {
   "cell_type": "code",
   "execution_count": null,
   "metadata": {},
   "outputs": [],
   "source": [
    "db.execute_query(open_sql_file(\"sql/rankings/sub_functions.sql\"))"
   ]
  },
  {
   "cell_type": "markdown",
   "metadata": {},
   "source": [
    "### Teams rankings"
   ]
  },
  {
   "cell_type": "code",
   "execution_count": null,
   "metadata": {},
   "outputs": [],
   "source": [
    "ID_CHP = 'ligue_1'\n",
    "SEASON = '2023-2024'\n",
    "SIDE = 'both'\n",
    "\n",
    "N = 1000000\n",
    "ROUND = 2"
   ]
  },
  {
   "cell_type": "markdown",
   "metadata": {},
   "source": [
    "#### Expected Points (xP)"
   ]
  },
  {
   "cell_type": "code",
   "execution_count": null,
   "metadata": {},
   "outputs": [],
   "source": [
    "# def game_sim(home: pd.Series, away: pd.Series) -> tuple:\n",
    "#     home_xgps: float = home['xg'] / home['shots']  # xG per shot\n",
    "#     away_xgps: float = away['xg'] / away['shots']\n",
    "\n",
    "#     home_xg = np.random.binomial(home['shots'], home_xgps)  # simulates whether or not each shot leads to a goal\n",
    "#     away_xg = np.random.binomial(away['shots'], away_xgps)\n",
    "\n",
    "#     if home_xg > away_xg:\n",
    "#         home_pts, away_pts = 3,0  \n",
    "#     elif home_xg == away_xg:\n",
    "#         home_pts, away_pts = 1,1 \n",
    "#     else:\n",
    "#         home_pts, away_pts = 0,3\n",
    "\n",
    "#     return home_pts, away_pts\n",
    "\n",
    "# def build_justice_table(teams: pd.DataFrame, n: int) -> pd.DataFrame:\n",
    "#     home_res = []\n",
    "#     away_res = []\n",
    "\n",
    "#     home: pd.Series = teams.loc[teams['played_home'] == True, ['shots', 'xg']]\n",
    "#     away: pd.Series = teams.loc[teams['played_home'] == False, ['shots', 'xg']]\n",
    "\n",
    "#     for _ in range(n):\n",
    "#         sim_res = game_sim(home, away)\n",
    "#         home_res.append(sim_res[0])\n",
    "#         away_res.append(sim_res[1])\n",
    "\n",
    "#     # Utilisez .loc pour mettre à jour la colonne 'xp' spécifique\n",
    "#     teams.loc[teams['played_home'] == True, 'xp'] = round(sum(home_res) / n, 3)\n",
    "#     teams.loc[teams['played_home'] == False, 'xp'] = round(sum(away_res) / n, 3)\n",
    "\n",
    "#     return teams[['id_match', 'played_home', 'complete_name', 'xp']]\n",
    "\n",
    "# justice_table = pd.DataFrame()\n",
    "\n",
    "# for match in team_stats['id_match'].unique():\n",
    "#     justice_table = pd.concat([justice_table, build_justice_table(team_stats.loc[team_stats['id_match'] == match].copy(), 10000)])\n",
    "\n",
    "# justice_table"
   ]
  },
  {
   "cell_type": "code",
   "execution_count": null,
   "metadata": {},
   "outputs": [],
   "source": [
    "def simulate_matches(teams: pd.DataFrame, n: int) -> pd.DataFrame:\n",
    "    home_teams = teams.loc[teams['played_home'] == True, ['shots', 'xg']]\n",
    "    away_teams = teams.loc[teams['played_home'] == False, ['shots', 'xg']]\n",
    "\n",
    "    # Utilisation d'opérations vectorisées pour la simulation des matchs\n",
    "    home_goals = np.random.binomial(home_teams['shots'], home_teams['xg'] / home_teams['shots'], size=(n,))\n",
    "    away_goals = np.random.binomial(away_teams['shots'], away_teams['xg'] / away_teams['shots'], size=(n,))\n",
    "\n",
    "    # Attribution des points en fonction du résultat du match\n",
    "    home_points = np.where(home_goals > away_goals, 3, np.where(home_goals == away_goals, 1, 0))\n",
    "    away_points = np.where(home_points == 1, 1, 3-home_points)\n",
    "\n",
    "    # Mise à jour de la colonne 'xp' pour chaque équipe\n",
    "    teams.loc[teams['played_home'] == True, 'xP'] = round(np.mean(home_points), ROUND)\n",
    "    teams.loc[teams['played_home'] == False, 'xP'] = round(np.mean(away_points), ROUND)\n",
    "\n",
    "    return teams[['id_match', 'played_home', 'Club', 'xP']]\n",
    "\n",
    "\n",
    "def build_justice_ranking(team_stats: pd.DataFrame, side: str = 'both') -> pd.DataFrame:\n",
    "    if side == 'home':\n",
    "        query = 'played_home'\n",
    "    elif side == 'away':\n",
    "        query = 'not played_home'\n",
    "    elif side == 'both':\n",
    "        query = '(played_home or not played_home)'\n",
    "        \n",
    "    justice_table = pd.concat([simulate_matches(team_stats.loc[team_stats['id_match'] == id_match].copy(), N) for id_match in team_stats['id_match'].unique()])\n",
    "    \n",
    "    return justice_table.query(query)[['Club', 'xP']].groupby('Club').sum('xP')"
   ]
  },
  {
   "cell_type": "code",
   "execution_count": null,
   "metadata": {},
   "outputs": [],
   "source": [
    "team_stats = db.df_from_query(f\"\"\"\n",
    "                              select ts.id_match, c.complete_name as \"Club\", ts.played_home, ts.xg, ts.shots \n",
    "                              from team_stats ts \n",
    "                              join club c on ts.id_team = c.id \n",
    "                              join match m on m.id = ts.id_match \n",
    "                              where m.id_championship = '{ID_CHP}' and m.season = '{SEASON}';\n",
    "                              \"\"\")\n",
    "justice_ranking = build_justice_ranking(team_stats)"
   ]
  },
  {
   "cell_type": "markdown",
   "metadata": {},
   "source": [
    "#### Basic Ranking"
   ]
  },
  {
   "cell_type": "code",
   "execution_count": null,
   "metadata": {},
   "outputs": [],
   "source": [
    "db.execute_query(open_sql_file(\"sql/rankings/teams.sql\"))"
   ]
  },
  {
   "cell_type": "code",
   "execution_count": null,
   "metadata": {},
   "outputs": [],
   "source": [
    "teams_ranking = db.df_from_query(f\"\"\"select * from teams_rankings(id_chp := '{ID_CHP}', id_season := '{SEASON}', side := '{SIDE}');\"\"\").set_index(\"Ranking\")\n"
   ]
  },
  {
   "cell_type": "markdown",
   "metadata": {},
   "source": [
    "#### Merged Ranking"
   ]
  },
  {
   "cell_type": "code",
   "execution_count": null,
   "metadata": {},
   "outputs": [],
   "source": [
    "teams_ranking = pd.merge(teams_ranking, justice_ranking, left_on='Club', right_index=True)\n",
    "teams_ranking['Diff Points'] = teams_ranking['Points'] - teams_ranking['xP']"
   ]
  },
  {
   "cell_type": "code",
   "execution_count": null,
   "metadata": {},
   "outputs": [],
   "source": [
    "show(teams_ranking[['Matches', 'Club', 'Wins', 'Draws', 'Loses', 'Points', 'xP', 'Diff Points']].set_index('Club').loc['FC Lorient'], paging=False)"
   ]
  },
  {
   "cell_type": "markdown",
   "metadata": {},
   "source": [
    "### Players Rankings"
   ]
  },
  {
   "cell_type": "code",
   "execution_count": null,
   "metadata": {},
   "outputs": [],
   "source": [
    "db.execute_query(open_sql_file(\"sql/rankings/players.sql\"))"
   ]
  },
  {
   "cell_type": "code",
   "execution_count": null,
   "metadata": {},
   "outputs": [],
   "source": [
    "players_ranking = db.df_from_query(\"select * from players_rankings(id_chp := 'ligue_1', id_season := '2023-2024', side := 'both');\").set_index(\"Ranking\")"
   ]
  },
  {
   "cell_type": "code",
   "execution_count": null,
   "metadata": {},
   "outputs": [],
   "source": [
    "players_ranking"
   ]
  },
  {
   "cell_type": "markdown",
   "metadata": {},
   "source": [
    "## Distinct positions"
   ]
  },
  {
   "cell_type": "code",
   "execution_count": null,
   "metadata": {},
   "outputs": [],
   "source": [
    "all_positions = db.df_from_query(\"select position from player_stats ps group by position;\")[\"position\"].dropna().tolist()\n",
    "flattened_positions = []\n",
    "for sublist in [position.split(',') for position in all_positions]:\n",
    "    flattened_positions.extend(sublist)"
   ]
  },
  {
   "cell_type": "code",
   "execution_count": null,
   "metadata": {},
   "outputs": [],
   "source": [
    "list(set(all_positions))"
   ]
  },
  {
   "cell_type": "code",
   "execution_count": null,
   "metadata": {},
   "outputs": [],
   "source": [
    "unique_positions = list(set(flattened_positions))\n",
    "general_positions = ['gk', 'def', 'mid', 'att']\n",
    "\n",
    "{\n",
    "    'gk': 'gk',\n",
    "    'df': 'def',\n",
    "    'lb': 'def',\n",
    "    'cb': 'def',\n",
    "    'wb': 'def', #wide back\n",
    "    'rb': 'def',\n",
    "    'dm': 'mid',\n",
    "    'cm': 'mid',\n",
    "    'lm': 'mid',\n",
    "    'rm': 'mid',\n",
    "    'mf': 'mid', #in-sub players\n",
    "    'am': 'mid', #attacking midfielder\n",
    "    'lw': 'att', #winger\n",
    "    'rw': 'att',\n",
    "    'fw': 'att'\n",
    "}"
   ]
  },
  {
   "cell_type": "markdown",
   "metadata": {},
   "source": [
    "# Closing the PostgreSQL session"
   ]
  },
  {
   "cell_type": "code",
   "execution_count": null,
   "metadata": {},
   "outputs": [],
   "source": [
    "db.close()"
   ]
  }
 ],
 "metadata": {
  "kernelspec": {
   "display_name": "Python 3",
   "language": "python",
   "name": "python3"
  },
  "language_info": {
   "codemirror_mode": {
    "name": "ipython",
    "version": 3
   },
   "file_extension": ".py",
   "mimetype": "text/x-python",
   "name": "python",
   "nbconvert_exporter": "python",
   "pygments_lexer": "ipython3",
   "version": "3.11.3"
  }
 },
 "nbformat": 4,
 "nbformat_minor": 2
}
