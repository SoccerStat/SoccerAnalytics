{
 "cells": [
  {
   "cell_type": "markdown",
   "metadata": {},
   "source": [
    "# Rankings"
   ]
  },
  {
   "cell_type": "code",
   "execution_count": null,
   "metadata": {},
   "outputs": [],
   "source": [
    "ENV=\"prod\""
   ]
  },
  {
   "cell_type": "markdown",
   "metadata": {},
   "source": [
    "## Connection to PostgreSQL database"
   ]
  },
  {
   "cell_type": "code",
   "execution_count": null,
   "metadata": {},
   "outputs": [],
   "source": [
    "from itables import init_notebook_mode, show\n",
    "from ipywidgets import interact, widgets\n",
    "\n",
    "from postgres.postgres_querying import PostgresQuerying\n",
    "from src.rankings.teams_ranking import TeamsRanking\n",
    "from src.rankings.players_ranking import PlayersRanking\n",
    "\n",
    "init_notebook_mode(all_interactive=True)"
   ]
  },
  {
   "cell_type": "code",
   "execution_count": null,
   "metadata": {},
   "outputs": [],
   "source": [
    "db = PostgresQuerying(ENV)"
   ]
  },
  {
   "cell_type": "markdown",
   "metadata": {},
   "source": [
    "## Rankings"
   ]
  },
  {
   "cell_type": "markdown",
   "metadata": {},
   "source": [
    "### Utils"
   ]
  },
  {
   "cell_type": "code",
   "execution_count": null,
   "metadata": {},
   "outputs": [],
   "source": [
    "# TODO: \n",
    "#   class Utils qui fournit la liste des championnats, des saisons, ...\n",
    "#   qui est importée aussi dans les classes de ranking / opposition pour faire les checks et les boucles"
   ]
  },
  {
   "cell_type": "code",
   "execution_count": null,
   "metadata": {},
   "outputs": [],
   "source": [
    "ID_COMP: str = 'ligue_1'\n",
    "SEASON: str = '2024-2025'\n",
    "SIDE: str = 'both'\n",
    "FIRST_WEEK: int = 1\n",
    "LAST_WEEK: int = 100\n",
    "FIRST_DATE = '1970-01-01'\n",
    "LAST_DATE = '2099-12-31'\n",
    "\n",
    "N: int = 1000000\n",
    "ROUND: int = 2"
   ]
  },
  {
   "cell_type": "markdown",
   "metadata": {},
   "source": [
    "### Teams ranking"
   ]
  },
  {
   "cell_type": "code",
   "execution_count": null,
   "metadata": {},
   "outputs": [],
   "source": [
    "teams_ranking = TeamsRanking(db)\n",
    "t_ranking = teams_ranking.build_ranking(\"ligue_1\", [\"2024_2025\"], FIRST_WEEK, LAST_WEEK, FIRST_DATE, LAST_DATE, SIDE, N, ROUND, False)"
   ]
  },
  {
   "cell_type": "code",
   "execution_count": null,
   "metadata": {},
   "outputs": [],
   "source": [
    "show(t_ranking.sort_values('Points', ascending=False), paging=False)"
   ]
  },
  {
   "cell_type": "code",
   "execution_count": null,
   "metadata": {},
   "outputs": [],
   "source": [
    "show(t_ranking[['Matches', 'Club', 'Wins', 'Draws', 'Loses', 'Points']].set_index('Club').loc['Rennes'], paging=False)\n",
    "#, 'xP', 'Diff Points'"
   ]
  },
  {
   "cell_type": "markdown",
   "metadata": {},
   "source": [
    "### Players Rankings"
   ]
  },
  {
   "cell_type": "code",
   "execution_count": null,
   "metadata": {},
   "outputs": [],
   "source": [
    "players_ranking = PlayersRanking(db)\n",
    "p_ranking = players_ranking.build_ranking([], [\"2023-2024\", \"2024-2025\"], FIRST_WEEK, LAST_WEEK, FIRST_DATE, LAST_DATE, SIDE)"
   ]
  },
  {
   "cell_type": "code",
   "execution_count": null,
   "metadata": {},
   "outputs": [],
   "source": [
    "show(p_ranking.sort_values('Goals', ascending=False), paging=False)"
   ]
  },
  {
   "cell_type": "code",
   "execution_count": null,
   "metadata": {},
   "outputs": [],
   "source": [
    "show(p_ranking[p_ranking['Player'] == 'Amine Gouiri'], paging=False)"
   ]
  },
  {
   "cell_type": "code",
   "execution_count": null,
   "metadata": {},
   "outputs": [],
   "source": [
    "show(p_ranking[p_ranking['Player'] == 'Kylian Mbappé'], paging=False)"
   ]
  },
  {
   "cell_type": "markdown",
   "metadata": {},
   "source": [
    "## Distinct positions"
   ]
  },
  {
   "cell_type": "code",
   "execution_count": null,
   "metadata": {},
   "outputs": [],
   "source": [
    "all_positions = db.df_from_query(f\"select position from season_{SEASON.replace('-', '_')}.player_main_stats ps group by position;\")[\"position\"].dropna().tolist()\n",
    "flattened_positions = []\n",
    "for sublist in [position.split(',') for position in all_positions]:\n",
    "    flattened_positions.extend(sublist)"
   ]
  },
  {
   "cell_type": "code",
   "execution_count": null,
   "metadata": {},
   "outputs": [],
   "source": [
    "list(set(all_positions))"
   ]
  },
  {
   "cell_type": "code",
   "execution_count": null,
   "metadata": {},
   "outputs": [],
   "source": [
    "unique_positions = list(set(flattened_positions))\n",
    "general_positions = ['gk', 'def', 'mid', 'att']\n",
    "\n",
    "{\n",
    "    'gk': 'gk',\n",
    "    'df': 'def',\n",
    "    'lb': 'def',\n",
    "    'cb': 'def',\n",
    "    'wb': 'def', #wide back\n",
    "    'rb': 'def',\n",
    "    'dm': 'mid',\n",
    "    'cm': 'mid',\n",
    "    'lm': 'mid',\n",
    "    'rm': 'mid',\n",
    "    'mf': 'mid', #in-sub players\n",
    "    'am': 'mid', #attacking midfielder\n",
    "    'lw': 'att', #winger\n",
    "    'rw': 'att',\n",
    "    'fw': 'att'\n",
    "}"
   ]
  },
  {
   "cell_type": "markdown",
   "metadata": {},
   "source": [
    "# Closing the PostgreSQL session"
   ]
  },
  {
   "cell_type": "code",
   "execution_count": null,
   "metadata": {},
   "outputs": [],
   "source": [
    "db.close()"
   ]
  }
 ],
 "metadata": {
  "kernelspec": {
   "display_name": "Python 3",
   "language": "python",
   "name": "python3"
  },
  "language_info": {
   "codemirror_mode": {
    "name": "ipython",
    "version": 3
   },
   "file_extension": ".py",
   "mimetype": "text/x-python",
   "name": "python",
   "nbconvert_exporter": "python",
   "pygments_lexer": "ipython3",
   "version": "3.11.3"
  }
 },
 "nbformat": 4,
 "nbformat_minor": 2
}
