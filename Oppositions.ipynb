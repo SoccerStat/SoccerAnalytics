{
 "cells": [
  {
   "cell_type": "markdown",
   "metadata": {},
   "source": [
    "# Oppositions"
   ]
  },
  {
   "cell_type": "code",
   "execution_count": null,
   "metadata": {},
   "outputs": [],
   "source": [
    "ENV=\"prod\""
   ]
  },
  {
   "cell_type": "markdown",
   "metadata": {},
   "source": [
    "## Connection to PostgreSQL database"
   ]
  },
  {
   "cell_type": "code",
   "execution_count": null,
   "metadata": {},
   "outputs": [],
   "source": [
    "from itables import init_notebook_mode, show\n",
    "from ipywidgets import interact, widgets\n",
    "from datetime import datetime\n",
    "\n",
    "from src.postgres.postgres_querying import PostgresQuerying\n",
    "from src.utils.data_loader import DataLoader\n",
    "\n",
    "from src.oppositions.teams_opposition import TeamsOpposition\n",
    "from src.oppositions.players_opposition import PlayersOpposition\n",
    "\n",
    "init_notebook_mode(all_interactive=True)"
   ]
  },
  {
   "cell_type": "code",
   "execution_count": null,
   "metadata": {},
   "outputs": [],
   "source": [
    "db = PostgresQuerying(ENV)"
   ]
  },
  {
   "cell_type": "markdown",
   "metadata": {},
   "source": [
    "## Oppositions"
   ]
  },
  {
   "cell_type": "markdown",
   "metadata": {},
   "source": [
    "### Utils"
   ]
  },
  {
   "cell_type": "code",
   "execution_count": null,
   "metadata": {},
   "outputs": [],
   "source": [
    "data_loader = DataLoader(db)\n",
    "seasons = data_loader.get_seasons()\n",
    "comps = data_loader.get_competition_names()\n",
    "sides = ['home', 'away', 'both']"
   ]
  },
  {
   "cell_type": "markdown",
   "metadata": {},
   "source": [
    "### 1 Item x N Items Oppositions"
   ]
  },
  {
   "cell_type": "code",
   "execution_count": null,
   "metadata": {},
   "outputs": [],
   "source": [
    "ID_COMP = 'ligue_1'\n",
    "SEASON = '2024-2025'\n",
    "SIDE = 'both'"
   ]
  },
  {
   "cell_type": "markdown",
   "metadata": {},
   "source": [
    "#### Team x Teams"
   ]
  },
  {
   "cell_type": "code",
   "execution_count": null,
   "metadata": {},
   "outputs": [],
   "source": [
    "TEAM_SRFC = 'Rennes'\n",
    "TEAM_PSG = 'Paris Saint-Germain FC'"
   ]
  },
  {
   "cell_type": "code",
   "execution_count": null,
   "metadata": {},
   "outputs": [],
   "source": [
    "teams_oppositions = TeamsOpposition(db)"
   ]
  },
  {
   "cell_type": "code",
   "execution_count": null,
   "metadata": {},
   "outputs": [],
   "source": [
    "t_oppositions = teams_oppositions.build_oppositions(TEAM_PSG, [], [\"Ligue 1\"], SIDE)"
   ]
  },
  {
   "cell_type": "code",
   "execution_count": null,
   "metadata": {},
   "outputs": [],
   "source": [
    "show(t_oppositions, paging=False)"
   ]
  },
  {
   "cell_type": "code",
   "execution_count": null,
   "metadata": {},
   "outputs": [],
   "source": [
    "interact(\n",
    "    teams_oppositions.build_oppositions_wrapper,\n",
    "    team=widgets.Dropdown(options=[TEAM_PSG, TEAM_SRFC]),\n",
    "    seasons=widgets.SelectMultiple(options=seasons),\n",
    "    comps=widgets.SelectMultiple(options=comps),\n",
    "    side=widgets.Dropdown(options=sides, value='both')\n",
    ")"
   ]
  },
  {
   "cell_type": "markdown",
   "metadata": {},
   "source": [
    "#### Player x Teams"
   ]
  },
  {
   "cell_type": "code",
   "execution_count": null,
   "metadata": {},
   "outputs": [],
   "source": [
    "PLAYER = '''Djylian N'Guessan'''\n",
    "GOUIRI = 'Amine Gouiri'\n",
    "MBAPPE = 'Kylian Mbappé'"
   ]
  },
  {
   "cell_type": "code",
   "execution_count": null,
   "metadata": {},
   "outputs": [],
   "source": [
    "players_oppositions = PlayersOpposition(db)"
   ]
  },
  {
   "cell_type": "code",
   "execution_count": null,
   "metadata": {},
   "outputs": [],
   "source": [
    "p_oppositions = players_oppositions.build_oppositions(MBAPPE, [SEASON], [], SIDE)"
   ]
  },
  {
   "cell_type": "code",
   "execution_count": null,
   "metadata": {},
   "outputs": [],
   "source": [
    "show(p_oppositions, paging=False)"
   ]
  },
  {
   "cell_type": "code",
   "execution_count": null,
   "metadata": {},
   "outputs": [],
   "source": [
    "interact(\n",
    "    players_oppositions.build_oppositions_wrapper,\n",
    "    player=widgets.Dropdown(options=[PLAYER, GOUIRI, MBAPPE]),\n",
    "    seasons=widgets.SelectMultiple(options=seasons),\n",
    "    comps=widgets.SelectMultiple(options=comps),\n",
    "    side=widgets.Dropdown(options=sides, value='both')\n",
    ")"
   ]
  },
  {
   "cell_type": "markdown",
   "metadata": {},
   "source": [
    "### Matrices"
   ]
  },
  {
   "cell_type": "code",
   "execution_count": null,
   "metadata": {},
   "outputs": [],
   "source": [
    "players_oppositions.build_matrix('Matches', [\"2024-2025\"], [\"Ligue 1\"], SIDE)"
   ]
  },
  {
   "cell_type": "markdown",
   "metadata": {},
   "source": [
    "#### Team x Teams"
   ]
  },
  {
   "cell_type": "code",
   "execution_count": null,
   "metadata": {},
   "outputs": [],
   "source": [
    "team_stats = ['Matches', 'Wins', 'Draws', 'Loses', 'Goals For', 'Goals Against', 'Shots', 'Shots on Target', 'Yellow Cards', 'Incl. 2 Yellow Cards', 'Red Cards']"
   ]
  },
  {
   "cell_type": "code",
   "execution_count": null,
   "metadata": {},
   "outputs": [],
   "source": [
    "teams_oppositions.build_matrix('Matches', [\"2024-2025\"], [\"Ligue 1\"], SIDE)"
   ]
  },
  {
   "cell_type": "code",
   "execution_count": null,
   "metadata": {},
   "outputs": [],
   "source": [
    "interact(\n",
    "    teams_oppositions.build_matrix_wrapper, \n",
    "    stat=widgets.Dropdown(options=team_stats),\n",
    "    seasons=widgets.SelectMultiple(options=seasons),\n",
    "    comps=widgets.SelectMultiple(options=comps), \n",
    "    side=widgets.Dropdown(options=sides, value=\"both\")\n",
    ")"
   ]
  },
  {
   "cell_type": "markdown",
   "metadata": {},
   "source": [
    "#### Player x Teams"
   ]
  },
  {
   "cell_type": "code",
   "execution_count": null,
   "metadata": {},
   "outputs": [],
   "source": [
    "player_stats = ['Matches', 'Wins', 'Draws', 'Loses', 'Goals', 'Assists', 'Minutes', 'Shots', 'Shots on Target', 'Yellow Cards', 'Incl. 2 Yellow Cards', 'Red Cards']"
   ]
  },
  {
   "cell_type": "code",
   "execution_count": null,
   "metadata": {},
   "outputs": [],
   "source": [
    "interact(\n",
    "    players_oppositions.build_matrix, \n",
    "    stat=widgets.Dropdown(options=player_stats),\n",
    "    seasons=widgets.SelectMultiple(options=seasons),\n",
    "    comps=widgets.SelectMultiple(options=comps), \n",
    "    side=widgets.Dropdown(options=sides, value=\"both\")\n",
    ")"
   ]
  },
  {
   "cell_type": "markdown",
   "metadata": {},
   "source": [
    "# Closing the PostgreSQL session"
   ]
  },
  {
   "cell_type": "code",
   "execution_count": null,
   "metadata": {},
   "outputs": [],
   "source": [
    "db.close()"
   ]
  }
 ],
 "metadata": {
  "kernelspec": {
   "display_name": "Python 3",
   "language": "python",
   "name": "python3"
  },
  "language_info": {
   "codemirror_mode": {
    "name": "ipython",
    "version": 3
   },
   "file_extension": ".py",
   "mimetype": "text/x-python",
   "name": "python",
   "nbconvert_exporter": "python",
   "pygments_lexer": "ipython3",
   "version": "3.11.3"
  }
 },
 "nbformat": 4,
 "nbformat_minor": 2
}
