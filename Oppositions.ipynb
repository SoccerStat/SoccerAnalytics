{
 "cells": [
  {
   "cell_type": "markdown",
   "metadata": {},
   "source": [
    "# Oppositions"
   ]
  },
  {
   "cell_type": "code",
   "execution_count": null,
   "metadata": {},
   "outputs": [],
   "source": [
    "ENV=\"prod\""
   ]
  },
  {
   "cell_type": "markdown",
   "metadata": {},
   "source": [
    "## Connection to PostgreSQL database"
   ]
  },
  {
   "cell_type": "code",
   "execution_count": null,
   "metadata": {},
   "outputs": [],
   "source": [
    "from itables import init_notebook_mode, show\n",
    "from ipywidgets import interact, widgets\n",
    "from datetime import datetime\n",
    "\n",
    "from src.postgres.postgres_querying import PostgresQuerying\n",
    "from src.oppositions.teams_opposition import TeamsOpposition\n",
    "from src.oppositions.players_opposition import PlayersOpposition\n",
    "\n",
    "init_notebook_mode(all_interactive=True)"
   ]
  },
  {
   "cell_type": "code",
   "execution_count": null,
   "metadata": {},
   "outputs": [],
   "source": [
    "db = PostgresQuerying(ENV)"
   ]
  },
  {
   "cell_type": "markdown",
   "metadata": {},
   "source": [
    "## Oppositions"
   ]
  },
  {
   "cell_type": "markdown",
   "metadata": {},
   "source": [
    "### Utils"
   ]
  },
  {
   "cell_type": "code",
   "execution_count": null,
   "metadata": {},
   "outputs": [],
   "source": [
    "# TODO: \n",
    "#   class Utils qui fournit la liste des championnats, des saisons, ...\n",
    "#   qui est importée aussi dans les classes de ranking / opposition pour faire les checks et les boucles"
   ]
  },
  {
   "cell_type": "markdown",
   "metadata": {},
   "source": [
    "### 1 Item x N Items Oppositions"
   ]
  },
  {
   "cell_type": "code",
   "execution_count": null,
   "metadata": {},
   "outputs": [],
   "source": [
    "ID_COMP = 'ligue_1'\n",
    "SEASON = '2024-2025'\n",
    "SIDE = 'both'"
   ]
  },
  {
   "cell_type": "markdown",
   "metadata": {},
   "source": [
    "#### Team x Teams"
   ]
  },
  {
   "cell_type": "code",
   "execution_count": null,
   "metadata": {},
   "outputs": [],
   "source": [
    "TEAM_SRFC = 'Rennes'\n",
    "TEAM_PSG = 'Paris Saint-Germain FC'"
   ]
  },
  {
   "cell_type": "code",
   "execution_count": null,
   "metadata": {},
   "outputs": [],
   "source": [
    "teams_oppositions = TeamsOpposition(db)"
   ]
  },
  {
   "cell_type": "code",
   "execution_count": null,
   "metadata": {},
   "outputs": [],
   "source": [
    "t_oppositions = teams_oppositions.build_oppositions(TEAM_PSG, [], [\"2024-2025\"], SIDE)"
   ]
  },
  {
   "cell_type": "code",
   "execution_count": null,
   "metadata": {},
   "outputs": [],
   "source": [
    "show(t_oppositions, paging=False)"
   ]
  },
  {
   "cell_type": "markdown",
   "metadata": {},
   "source": [
    "#### Player x Teams"
   ]
  },
  {
   "cell_type": "code",
   "execution_count": null,
   "metadata": {},
   "outputs": [],
   "source": [
    "PLAYER = '''Djylian N'Guessan'''\n",
    "GOUIRI = 'Amine Gouiri'\n",
    "MBAPPE = 'Kylian Mbappé'"
   ]
  },
  {
   "cell_type": "code",
   "execution_count": null,
   "metadata": {},
   "outputs": [],
   "source": [
    "players_oppositions = PlayersOpposition(db)"
   ]
  },
  {
   "cell_type": "code",
   "execution_count": null,
   "metadata": {},
   "outputs": [],
   "source": [
    "p_oppositions = players_oppositions.build_oppositions(MBAPPE, [], [SEASON], SIDE)"
   ]
  },
  {
   "cell_type": "code",
   "execution_count": null,
   "metadata": {},
   "outputs": [],
   "source": [
    "show(p_oppositions, paging=False)"
   ]
  },
  {
   "cell_type": "markdown",
   "metadata": {},
   "source": [
    "### Matrices"
   ]
  },
  {
   "cell_type": "code",
   "execution_count": null,
   "metadata": {},
   "outputs": [],
   "source": [
    "chps = ['ligue_1', 'la_liga', 'premier_league', 'serie_a', 'fussball_bundesliga']\n",
    "seasons = ['2024-2025'] #[f\"{season}-{season+1}\" for season in range(datetime.now().year-5, datetime.now().year)]\n",
    "sides = ['home', 'away', 'both']"
   ]
  },
  {
   "cell_type": "code",
   "execution_count": null,
   "metadata": {},
   "outputs": [],
   "source": [
    "# p_matrix = players_oppositions.build_matrix('Matches', ID_COMP, SEASON)"
   ]
  },
  {
   "cell_type": "markdown",
   "metadata": {},
   "source": [
    "#### Team x Teams"
   ]
  },
  {
   "cell_type": "code",
   "execution_count": null,
   "metadata": {},
   "outputs": [],
   "source": [
    "team_stats = ['Matches', 'Wins', 'Draws', 'Loses', 'Goals For', 'Goals Against', 'Shots', 'Shots on Target', 'Yellow Cards', 'Incl. 2 Yellow Cards', 'Red Cards']"
   ]
  },
  {
   "cell_type": "code",
   "execution_count": null,
   "metadata": {},
   "outputs": [],
   "source": [
    "interact(\n",
    "    teams_oppositions.build_matrix, \n",
    "    stat=widgets.Dropdown(options=team_stats),\n",
    "    id_comp=widgets.Dropdown(options=chps), \n",
    "    season=widgets.Dropdown(options=seasons),\n",
    "    side=widgets.Dropdown(options=sides)\n",
    ")"
   ]
  },
  {
   "cell_type": "markdown",
   "metadata": {},
   "source": [
    "#### Player x Teams"
   ]
  },
  {
   "cell_type": "code",
   "execution_count": null,
   "metadata": {},
   "outputs": [],
   "source": [
    "player_stats = ['Matches', 'Wins', 'Draws', 'Loses', 'Goals', 'Assists', 'Minutes', 'Shots', 'Shots on Target', 'Yellow Cards', 'Incl. 2 Yellow Cards', 'Red Cards']"
   ]
  },
  {
   "cell_type": "code",
   "execution_count": null,
   "metadata": {},
   "outputs": [],
   "source": [
    "interact(\n",
    "    players_oppositions.build_matrix, \n",
    "    stat=widgets.Dropdown(options=player_stats),\n",
    "    id_comp=widgets.Dropdown(options=chps), \n",
    "    season=widgets.Dropdown(options=seasons),\n",
    "    side=widgets.Dropdown(options=sides)\n",
    ")"
   ]
  },
  {
   "cell_type": "markdown",
   "metadata": {},
   "source": [
    "# Closing the PostgreSQL session"
   ]
  },
  {
   "cell_type": "code",
   "execution_count": null,
   "metadata": {},
   "outputs": [],
   "source": [
    "db.close()"
   ]
  }
 ],
 "metadata": {
  "kernelspec": {
   "display_name": "Python 3",
   "language": "python",
   "name": "python3"
  },
  "language_info": {
   "codemirror_mode": {
    "name": "ipython",
    "version": 3
   },
   "file_extension": ".py",
   "mimetype": "text/x-python",
   "name": "python",
   "nbconvert_exporter": "python",
   "pygments_lexer": "ipython3",
   "version": "3.11.3"
  }
 },
 "nbformat": 4,
 "nbformat_minor": 2
}
